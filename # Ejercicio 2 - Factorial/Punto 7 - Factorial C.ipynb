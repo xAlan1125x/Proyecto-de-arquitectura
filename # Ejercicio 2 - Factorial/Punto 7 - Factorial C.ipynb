{
  "nbformat": 4,
  "nbformat_minor": 0,
  "metadata": {
    "colab": {
      "provenance": []
    },
    "kernelspec": {
      "name": "python3",
      "display_name": "Python 3"
    },
    "language_info": {
      "name": "python"
    }
  },
  "cells": [
    {
      "cell_type": "markdown",
      "source": [
        "Varela Alan Christian Emmanuel\n",
        "# Mismo programa pero en C, hecho con la IA de Google"
      ],
      "metadata": {
        "id": "FUnhyp-QdXmp"
      }
    },
    {
      "cell_type": "code",
      "source": [
        "%%c\n",
        "#include <stdio.h>\n",
        "\n",
        "long long factorial(int n) {\n",
        "    long long res = 1;\n",
        "    for (int i = 2; i <= n; i++)\n",
        "        res *= i;\n",
        "    return res;\n",
        "}\n",
        "\n",
        "int main() {\n",
        "    int num = 5;\n",
        "    long long result = factorial(num);\n",
        "    printf(\"Factorial = %lld\\n\", result);\n",
        "    return 0;\n",
        "}"
      ],
      "metadata": {
        "colab": {
          "base_uri": "https://localhost:8080/"
        },
        "id": "BQI2lOyQdavt",
        "outputId": "4693fb6b-b677-4a81-eedf-18a90b75acf3"
      },
      "execution_count": null,
      "outputs": [
        {
          "output_type": "stream",
          "name": "stderr",
          "text": [
            "UsageError: Cell magic `%%c` not found.\n"
          ]
        }
      ]
    },
    {
      "cell_type": "markdown",
      "source": [
        "# A continuación se muestran los pasos necesarios para que el código funcione ejecutados de manera automática:"
      ],
      "metadata": {
        "id": "ODsCWge1gG2E"
      }
    },
    {
      "cell_type": "markdown",
      "metadata": {
        "id": "59b46a29"
      },
      "source": [
        "# Task\n",
        "Compile and run the C code provided in the file \"hello_world.c\"."
      ]
    },
    {
      "cell_type": "markdown",
      "metadata": {
        "id": "fb719036"
      },
      "source": [
        "## Install necessary tools\n",
        "\n",
        "### Subtask:\n",
        "Install a C compiler and potentially other tools needed to compile and run C code.\n"
      ]
    },
    {
      "cell_type": "markdown",
      "metadata": {
        "id": "61ed4ed4"
      },
      "source": [
        "**Reasoning**:\n",
        "Install the build-essential package using apt-get to get a C compiler and other necessary tools.\n",
        "\n"
      ]
    },
    {
      "cell_type": "code",
      "metadata": {
        "colab": {
          "base_uri": "https://localhost:8080/"
        },
        "id": "dec66cf4",
        "outputId": "969afb8f-91c0-4fed-fcdc-46d636beef18"
      },
      "source": [
        "get_ipython().system('apt-get update')\n",
        "get_ipython().system('apt-get install build-essential -y')"
      ],
      "execution_count": null,
      "outputs": [
        {
          "output_type": "stream",
          "name": "stdout",
          "text": [
            "Hit:1 https://developer.download.nvidia.com/compute/cuda/repos/ubuntu2204/x86_64  InRelease\n",
            "Hit:2 https://cli.github.com/packages stable InRelease\n",
            "Get:3 https://cloud.r-project.org/bin/linux/ubuntu jammy-cran40/ InRelease [3,632 B]\n",
            "Get:4 http://security.ubuntu.com/ubuntu jammy-security InRelease [129 kB]\n",
            "Hit:5 http://archive.ubuntu.com/ubuntu jammy InRelease\n",
            "Get:6 https://r2u.stat.illinois.edu/ubuntu jammy InRelease [6,555 B]\n",
            "Get:7 http://archive.ubuntu.com/ubuntu jammy-updates InRelease [128 kB]\n",
            "Hit:8 https://ppa.launchpadcontent.net/deadsnakes/ppa/ubuntu jammy InRelease\n",
            "Hit:9 https://ppa.launchpadcontent.net/graphics-drivers/ppa/ubuntu jammy InRelease\n",
            "Hit:10 https://ppa.launchpadcontent.net/ubuntugis/ppa/ubuntu jammy InRelease\n",
            "Get:11 http://security.ubuntu.com/ubuntu jammy-security/universe amd64 Packages [1,287 kB]\n",
            "Get:12 https://r2u.stat.illinois.edu/ubuntu jammy/main all Packages [9,373 kB]\n",
            "Get:13 http://archive.ubuntu.com/ubuntu jammy-backports InRelease [127 kB]\n",
            "Get:14 http://archive.ubuntu.com/ubuntu jammy-updates/restricted amd64 Packages [5,988 kB]\n",
            "Get:15 http://archive.ubuntu.com/ubuntu jammy-updates/universe amd64 Packages [1,594 kB]\n",
            "Get:16 http://archive.ubuntu.com/ubuntu jammy-updates/main amd64 Packages [3,778 kB]\n",
            "Get:17 https://r2u.stat.illinois.edu/ubuntu jammy/main amd64 Packages [2,813 kB]\n",
            "Get:18 http://archive.ubuntu.com/ubuntu jammy-updates/multiverse amd64 Packages [69.2 kB]\n",
            "Fetched 25.3 MB in 5s (4,853 kB/s)\n",
            "Reading package lists... Done\n",
            "W: Skipping acquire of configured file 'main/source/Sources' as repository 'https://r2u.stat.illinois.edu/ubuntu jammy InRelease' does not seem to provide it (sources.list entry misspelt?)\n",
            "Reading package lists... Done\n",
            "Building dependency tree... Done\n",
            "Reading state information... Done\n",
            "build-essential is already the newest version (12.9ubuntu3).\n",
            "0 upgraded, 0 newly installed, 0 to remove and 39 not upgraded.\n"
          ]
        }
      ]
    },
    {
      "cell_type": "markdown",
      "metadata": {
        "id": "2ae14aa8"
      },
      "source": [
        "## Write the c code\n",
        "\n",
        "### Subtask:\n",
        "Provide the C code in a file.\n"
      ]
    },
    {
      "cell_type": "markdown",
      "metadata": {
        "id": "37dcc249"
      },
      "source": [
        "**Reasoning**:\n",
        "Write the C code to a file named \"hello_world.c\".\n",
        "\n"
      ]
    },
    {
      "cell_type": "code",
      "metadata": {
        "id": "4f79a6a8"
      },
      "source": [
        "with open('hello_world.c', 'w') as f:\n",
        "    f.write(\"\"\"\n",
        "#include <stdio.h>\n",
        "\n",
        "long long factorial(int n) {\n",
        "    long long res = 1;\n",
        "    for (int i = 2; i <= n; i++)\n",
        "        res *= i;\n",
        "    return res;\n",
        "}\n",
        "\n",
        "int main() {\n",
        "    int num = 5;\n",
        "    long long result = factorial(num);\n",
        "    printf(\"Factorial = %lld\\\\n\", result);\n",
        "    return 0;\n",
        "}\n",
        "\"\"\")"
      ],
      "execution_count": null,
      "outputs": []
    },
    {
      "cell_type": "markdown",
      "metadata": {
        "id": "a59d802e"
      },
      "source": [
        "## Compile the c code\n",
        "\n",
        "### Subtask:\n",
        "Compile the C code using the installed compiler.\n"
      ]
    },
    {
      "cell_type": "markdown",
      "metadata": {
        "id": "0c06ed90"
      },
      "source": [
        "**Reasoning**:\n",
        "Compile the C code file `hello_world.c` using gcc and name the output executable `hello_world`.\n",
        "\n"
      ]
    },
    {
      "cell_type": "code",
      "metadata": {
        "id": "cc9a290b"
      },
      "source": [
        "get_ipython().system('gcc hello_world.c -o hello_world')"
      ],
      "execution_count": null,
      "outputs": []
    },
    {
      "cell_type": "markdown",
      "metadata": {
        "id": "f7ba3954"
      },
      "source": [
        "## Run the compiled code\n",
        "\n",
        "### Subtask:\n",
        "Execute the compiled C program.\n"
      ]
    },
    {
      "cell_type": "markdown",
      "metadata": {
        "id": "89dc5859"
      },
      "source": [
        "**Reasoning**:\n",
        "Execute the compiled C program using the system command.\n",
        "\n"
      ]
    },
    {
      "cell_type": "code",
      "metadata": {
        "colab": {
          "base_uri": "https://localhost:8080/"
        },
        "id": "668ac296",
        "outputId": "3c44206e-2651-480c-c5ec-1622d16f1a18"
      },
      "source": [
        "get_ipython().system('./hello_world')"
      ],
      "execution_count": null,
      "outputs": [
        {
          "output_type": "stream",
          "name": "stdout",
          "text": [
            "Factorial = 120\n"
          ]
        }
      ]
    },
    {
      "cell_type": "markdown",
      "metadata": {
        "id": "0174f430"
      },
      "source": [
        "## Summary:\n",
        "\n",
        "### Data Analysis Key Findings\n",
        "\n",
        "*   The necessary build tools, including a C compiler, were already installed on the system.\n",
        "*   A C program to calculate the factorial of 5 and print the result was successfully written to the file `hello_world.c`.\n",
        "*   The C code in `hello_world.c` was successfully compiled using `gcc`, creating an executable file named `hello_world`.\n",
        "*   Executing the compiled program `hello_world` produced the output \"Factorial = 120\".\n",
        "\n",
        "### Insights or Next Steps\n",
        "\n",
        "*   The task of compiling and running the provided C code was successfully completed.\n",
        "*   The program correctly calculated the factorial of 5 as 120.\n"
      ]
    },
    {
      "cell_type": "code",
      "metadata": {
        "id": "97caf585"
      },
      "source": [],
      "execution_count": null,
      "outputs": []
    }
  ]
}