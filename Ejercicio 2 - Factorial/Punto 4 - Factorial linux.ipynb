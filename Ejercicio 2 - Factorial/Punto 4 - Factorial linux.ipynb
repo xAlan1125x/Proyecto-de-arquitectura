{
  "nbformat": 4,
  "nbformat_minor": 0,
  "metadata": {
    "colab": {
      "provenance": []
    },
    "kernelspec": {
      "name": "python3",
      "display_name": "Python 3"
    },
    "language_info": {
      "name": "python"
    }
  },
  "cells": [
    {
      "cell_type": "markdown",
      "source": [
        "Varela Alan Christian Emmanuel\n",
        "# Implementamos NASM"
      ],
      "metadata": {
        "id": "2LNcPkv7Hg5h"
      }
    },
    {
      "cell_type": "code",
      "source": [
        "!sudo apt update -y\n",
        "!sudo apt install nasm -y\n"
      ],
      "metadata": {
        "colab": {
          "base_uri": "https://localhost:8080/"
        },
        "id": "wkeYMQQOHeDY",
        "outputId": "fcf9b54b-21fb-462d-ecdc-0f27f4175a9e"
      },
      "execution_count": null,
      "outputs": [
        {
          "output_type": "stream",
          "name": "stdout",
          "text": [
            "\u001b[33m\r0% [Working]\u001b[0m\r            \rGet:1 http://security.ubuntu.com/ubuntu jammy-security InRelease [129 kB]\n",
            "\u001b[33m\r0% [Connecting to archive.ubuntu.com (91.189.91.82)] [1 InRelease 14.2 kB/129 k\u001b[0m\u001b[33m\r0% [Connecting to archive.ubuntu.com (91.189.91.82)] [Connected to cloud.r-proj\u001b[0m\r                                                                               \rGet:2 https://cloud.r-project.org/bin/linux/ubuntu jammy-cran40/ InRelease [3,632 B]\n",
            "\u001b[33m\r0% [Waiting for headers] [2 InRelease 3,632 B/3,632 B 100%] [Connecting to r2u.\u001b[0m\u001b[33m\r0% [Waiting for headers] [Connecting to r2u.stat.illinois.edu] [Waiting for hea\u001b[0m\r                                                                               \rHit:3 https://cli.github.com/packages stable InRelease\n",
            "\u001b[33m\r0% [Waiting for headers] [Connecting to r2u.stat.illinois.edu] [Waiting for hea\u001b[0m\r                                                                               \rHit:4 https://developer.download.nvidia.com/compute/cuda/repos/ubuntu2204/x86_64  InRelease\n",
            "\u001b[33m\r0% [Waiting for headers] [Connecting to r2u.stat.illinois.edu (192.17.190.167)]\u001b[0m\r                                                                               \rHit:5 http://archive.ubuntu.com/ubuntu jammy InRelease\n",
            "\u001b[33m\r0% [Connecting to r2u.stat.illinois.edu (192.17.190.167)] [Waiting for headers]\u001b[0m\r                                                                               \rHit:6 https://ppa.launchpadcontent.net/deadsnakes/ppa/ubuntu jammy InRelease\n",
            "\u001b[33m\r0% [Waiting for headers] [Connecting to r2u.stat.illinois.edu (192.17.190.167)]\u001b[0m\r                                                                               \rHit:7 https://ppa.launchpadcontent.net/graphics-drivers/ppa/ubuntu jammy InRelease\n",
            "\u001b[33m\r0% [Waiting for headers] [Connecting to r2u.stat.illinois.edu (192.17.190.167)]\u001b[0m\r                                                                               \rHit:8 https://ppa.launchpadcontent.net/ubuntugis/ppa/ubuntu jammy InRelease\n",
            "Get:9 http://archive.ubuntu.com/ubuntu jammy-updates InRelease [128 kB]\n",
            "Get:10 http://security.ubuntu.com/ubuntu jammy-security/universe amd64 Packages [1,287 kB]\n",
            "Get:11 http://archive.ubuntu.com/ubuntu jammy-backports InRelease [127 kB]\n",
            "Get:12 https://r2u.stat.illinois.edu/ubuntu jammy InRelease [6,555 B]\n",
            "Get:13 http://archive.ubuntu.com/ubuntu jammy-updates/multiverse amd64 Packages [69.2 kB]\n",
            "Get:14 http://archive.ubuntu.com/ubuntu jammy-updates/restricted amd64 Packages [5,988 kB]\n",
            "Get:15 https://r2u.stat.illinois.edu/ubuntu jammy/main amd64 Packages [2,813 kB]\n",
            "Get:16 http://archive.ubuntu.com/ubuntu jammy-updates/main amd64 Packages [3,778 kB]\n",
            "Get:17 http://archive.ubuntu.com/ubuntu jammy-updates/universe amd64 Packages [1,594 kB]\n",
            "Get:18 https://r2u.stat.illinois.edu/ubuntu jammy/main all Packages [9,373 kB]\n",
            "Fetched 25.3 MB in 4s (6,372 kB/s)\n",
            "Reading package lists... Done\n",
            "Building dependency tree... Done\n",
            "Reading state information... Done\n",
            "39 packages can be upgraded. Run 'apt list --upgradable' to see them.\n",
            "\u001b[1;33mW: \u001b[0mSkipping acquire of configured file 'main/source/Sources' as repository 'https://r2u.stat.illinois.edu/ubuntu jammy InRelease' does not seem to provide it (sources.list entry misspelt?)\u001b[0m\n",
            "Reading package lists... Done\n",
            "Building dependency tree... Done\n",
            "Reading state information... Done\n",
            "The following NEW packages will be installed:\n",
            "  nasm\n",
            "0 upgraded, 1 newly installed, 0 to remove and 39 not upgraded.\n",
            "Need to get 375 kB of archives.\n",
            "After this operation, 3,345 kB of additional disk space will be used.\n",
            "Get:1 http://archive.ubuntu.com/ubuntu jammy/universe amd64 nasm amd64 2.15.05-1 [375 kB]\n",
            "Fetched 375 kB in 0s (3,944 kB/s)\n",
            "debconf: unable to initialize frontend: Dialog\n",
            "debconf: (No usable dialog-like program is installed, so the dialog based frontend cannot be used. at /usr/share/perl5/Debconf/FrontEnd/Dialog.pm line 78, <> line 1.)\n",
            "debconf: falling back to frontend: Readline\n",
            "debconf: unable to initialize frontend: Readline\n",
            "debconf: (This frontend requires a controlling tty.)\n",
            "debconf: falling back to frontend: Teletype\n",
            "dpkg-preconfigure: unable to re-open stdin: \n",
            "Selecting previously unselected package nasm.\n",
            "(Reading database ... 126675 files and directories currently installed.)\n",
            "Preparing to unpack .../nasm_2.15.05-1_amd64.deb ...\n",
            "Unpacking nasm (2.15.05-1) ...\n",
            "Setting up nasm (2.15.05-1) ...\n",
            "Processing triggers for man-db (2.10.2-1) ...\n"
          ]
        }
      ]
    },
    {
      "cell_type": "markdown",
      "source": [
        "# Creamos el archivo factorial.asm con el código"
      ],
      "metadata": {
        "id": "rbD0i3b4ICrp"
      }
    },
    {
      "cell_type": "code",
      "source": [
        "%%writefile factorial.asm\n",
        "; factorial.asm - NASM x86_64 Linux\n",
        "\n",
        "section .data\n",
        "    num     dq 5                ; número a calcular factorial\n",
        "    result  dq 0                ; resultado\n",
        "    msg     db \"Factorial = \"   ; mensaje\n",
        "    buffer  db 20,0             ; buffer para convertir número a ASCII (20 bytes)\n",
        "\n",
        "section .text\n",
        "global _start\n",
        "\n",
        "_start:\n",
        "\n",
        "    ; --- Calcular factorial iterativo ---\n",
        "    mov rax, 1                  ; acumulador = 1\n",
        "    mov rcx, [num]              ; contador = num\n",
        "    cmp rcx, 0\n",
        "    je fact_done\n",
        "\n",
        "fact_loop:\n",
        "    imul rax, rcx               ; RAX *= RCX\n",
        "    dec rcx\n",
        "    jnz fact_loop\n",
        "\n",
        "fact_done:\n",
        "    mov [result], rax\n",
        "\n",
        "    ; --- Mostrar mensaje ---\n",
        "    mov rdx, 12                 ; longitud de \"Factorial = \" = 12\n",
        "    mov rsi, msg\n",
        "    mov rdi, 1                  ; stdout\n",
        "    mov rax, 1                  ; syscall write\n",
        "    syscall\n",
        "\n",
        "    ; --- Convertir resultado a ASCII ---\n",
        "    mov rax, [result]           ; número a convertir\n",
        "    mov rbx, 10                 ; divisor decimal\n",
        "    lea rdi, [buffer+19]        ; apuntar al final del buffer\n",
        "    mov rcx, 0                  ; contador de dígitos\n",
        "\n",
        "    cmp rax, 0\n",
        "    jne .conv_loop_start\n",
        "    mov byte [rdi], '0'\n",
        "    dec rdi\n",
        "    inc rcx\n",
        "    jmp .conv_done\n",
        "\n",
        ".conv_loop_start:\n",
        ".conv_loop:\n",
        "    xor rdx, rdx\n",
        "    div rbx                      ; RAX = RAX / 10, RDX = RAX % 10\n",
        "    add dl, '0'\n",
        "    mov [rdi], dl\n",
        "    dec rdi\n",
        "    inc rcx\n",
        "    cmp rax, 0\n",
        "    jne .conv_loop\n",
        "\n",
        ".conv_done:\n",
        "    inc rdi                      ; avanzar al primer dígito válido\n",
        "    mov rdx, rcx                 ; longitud del número\n",
        "    mov rsi, rdi\n",
        "    mov rdi, 1\n",
        "    mov rax, 1\n",
        "    syscall\n",
        "\n",
        "    ; --- Salir ---\n",
        "    mov rax, 60                  ; syscall exit\n",
        "    xor rdi, rdi\n",
        "    syscall\n",
        "\n",
        "\n"
      ],
      "metadata": {
        "colab": {
          "base_uri": "https://localhost:8080/"
        },
        "id": "V11biSBzIqjR",
        "outputId": "274445a9-294e-429c-dfe7-3c16aaf6c74f"
      },
      "execution_count": null,
      "outputs": [
        {
          "output_type": "stream",
          "name": "stdout",
          "text": [
            "Overwriting factorial.asm\n"
          ]
        }
      ]
    },
    {
      "cell_type": "markdown",
      "source": [
        "# Ensamblamos y linkeamos"
      ],
      "metadata": {
        "id": "6jrvMt-6IvvM"
      }
    },
    {
      "cell_type": "code",
      "source": [
        "!nasm -f elf64 factorial.asm -o factorial.o\n",
        "!ld factorial.o -o factorial"
      ],
      "metadata": {
        "id": "3BWPLin1JAfL"
      },
      "execution_count": null,
      "outputs": []
    },
    {
      "cell_type": "markdown",
      "source": [
        "# Ejecutamos"
      ],
      "metadata": {
        "id": "ysIW4XZxJMvD"
      }
    },
    {
      "cell_type": "code",
      "source": [
        "!./factorial\n"
      ],
      "metadata": {
        "colab": {
          "base_uri": "https://localhost:8080/"
        },
        "id": "dt9roPcuJPxd",
        "outputId": "cd9b442c-0840-4f67-e7bc-c2f4c0f99e4d"
      },
      "execution_count": null,
      "outputs": [
        {
          "output_type": "stream",
          "name": "stdout",
          "text": [
            "Factorial = 120"
          ]
        }
      ]
    },
    {
      "cell_type": "markdown",
      "source": [],
      "metadata": {
        "id": "HFkLJNXtbFui"
      }
    }
  ]
}